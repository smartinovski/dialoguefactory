{
 "cells": [
  {
   "cell_type": "markdown",
   "id": "59d1814a-6545-41c9-a892-545abff406cd",
   "metadata": {},
   "source": [
    "*We strongly encourage you to read the [paper](https://rgdoi.net/10.13140/RG.2.2.17884.19846) before reading this tutorial."
   ]
  },
  {
   "cell_type": "markdown",
   "id": "01093c86-d25c-48d7-957d-4f2d8eddea29",
   "metadata": {},
   "source": [
    "# Introduction\n",
    "\n",
    "In this tutorial, we want to build a simple dialogue template where the user asks, \"\\<agent\\>, How many items does \\<random_player\\> have?\" and the agent must answer the question with a single sentence, \"The \\<player\\> has \\<#\\> items\" or \"I don't know how many items \\<player\\> has.\" Because the environment is partially observable, there might be multiple correct answers. Sometimes, the player may appear to have only two visible items, but in reality, they can have five items. Both answers are acceptable in this case.\n",
    "\n",
    "Let's first create an instance of the DialogueGenerator and an instance of the world where the dialogues will happen. We will use the \"easy world\" in our example, but you can choose the \"hard world\" if you prefer."
   ]
  },
  {
   "cell_type": "code",
   "execution_count": null,
   "id": "657cc107-85cd-45e4-9583-eb32a514d824",
   "metadata": {},
   "outputs": [],
   "source": [
    "import os\n",
    "from dialoguefactory import DialogueGenerator\n",
    "import dialoguefactory.environments.easy as easy_env\n",
    "\n",
    "home_directory = os.path.expanduser('~')\n",
    "\n",
    "error_path = os.path.join(home_directory, 'dialoguefactory_logs', 'error.log')\n",
    "context_path = os.path.join(home_directory, 'dialoguefactory_logs', 'context.log')\n",
    "os.makedirs(os.path.dirname(error_path), exist_ok=True)\n",
    "os.makedirs(os.path.dirname(context_path), exist_ok=True)\n",
    "\n",
    "world = easy_env.build_world()\n",
    "generator = DialogueGenerator(world, error_path, context_path)"
   ]
  },
  {
   "cell_type": "markdown",
   "id": "983be82c-87ea-421f-8b33-75facb92502d",
   "metadata": {},
   "source": [
    "# Creating the participants' policies\n",
    "\n",
    "The first step in creating a new template is to make the participants' policies. There are two types of policies: user-based and agent-based. For our dialogues, we use rule-based policies. A rule-based policy is a deterministic model where the developer programs the policy logic. On the other hand, a model-based approach involves using a mathematical model like a machine learning model. Building rule-based policies is recommended for precise responses, but you can use any method to develop your policies.\n"
   ]
  },
  {
   "cell_type": "markdown",
   "id": "0623f94a-9890-403f-9d58-14fe2ba17a45",
   "metadata": {},
   "source": [
    "## The user policy\n",
    "\n",
    "Implementing the user policies is straightforward because the user issues a single request sentence and later does not contribute to the dialogue.\n",
    "\n",
    "Since the user's request is parametrized by the *user*, *agent*, and a *random_player*, creating a function that generates the request is useful. We use \"request\" and \"query\" interchangeably in our project. \n",
    "\n",
    "We use a Describer object to represent the meaning of the sentence. The Describer contains PropBank arguments. The describer argument contains a value and a language component (Word, Phrase, Sentence). The value carries the meaning, and the language component is the syntactic part. They can differ in some cases. As seen in our new request above, the syntax can contain additional punctuation and auxiliary words like 'does' that do not contribute to the sentence's meaning. We create an instance of the Describer object using the function describers.have(). If you need to create a function that initializes a Describer object for a verb not available in the Describer module, first, you need to annotate the sentence to PropBank arguments. To automatically annotate the sentence, we use the [following parser](https://verbnetparser.com/). Note that the automatic parser is not always 100% accurate. Later, you can write a code similar to the [describers.have()](https://revivegretel.com/docs/_modules/dialoguefactory/language/describers.html#have) function.\n",
    "\n",
    "We also assign a describer mapper to the sentence so that a Describer object can be mapped to our query sentence. The describer mapping is useful to convert the semantics (Describer) to syntax (Sentence). The request mapper is used for converting a statement to a request.\n",
    "\n",
    "The tmp is used in our user's [AndPolicy](https://revivegretel.com/docs/dialoguefactory.policies.html#dialoguefactory.policies.user_policies.AndPolicy). An example of an *And* request is: John, go to the kitchen, then Andy, how many items does Hannah have?, then ...\n",
    "By adding the *tmp* to our \"HowMany\" request, the \"And\" user policy can use our new request automatically. The *tmp* in the example above is \"then.\" \n"
   ]
  },
  {
   "cell_type": "code",
   "execution_count": null,
   "id": "cf310970-5b21-427b-83f9-39d235a935c5",
   "metadata": {},
   "outputs": [],
   "source": [
    "import dialoguefactory.language.desc_mappers as dm\n",
    "import dialoguefactory.language.helpers as he\n",
    "import dialoguefactory.language.components as lc\n",
    "import dialoguefactory.language.describers as tdescribers\n",
    "\n",
    "\n",
    "@he.auto_fill([6], [\"speaker\"])\n",
    "def query_have(tmp=(None, None), agent=(None, None), possession=(None, None), \n",
    "               owner=(None, None), neg=(None, None), rel=(None, None), speaker=None):\n",
    "    \"\"\"\n",
    "    Creates a Sentence for the verb have in the following form:\n",
    "\n",
    "        <agent>, <possession> does <owner> (not) have?\n",
    "\n",
    "    An example is: Gretel, how many items does Jim have?\n",
    "    \"\"\"\n",
    "    if lc.verb_inf(rel[0]) != \"have\":\n",
    "        return None\n",
    "\n",
    "    sent = lc.Sentence([tmp[1],\n",
    "                        agent[1],\n",
    "                        lc.Word(\",\"),\n",
    "                        possession[1],\n",
    "                        lc.Word(\"does\"),\n",
    "                        owner[1],\n",
    "                        neg[1],\n",
    "                        rel[1],\n",
    "                        lc.Word('?')],\n",
    "                       speaker=speaker)\n",
    "    desc = tdescribers.have(owner, rel, neg, possession )\n",
    "    desc.args[\"AM-DIS\"] = lc.Arg(agent[0], agent[1])\n",
    "    if tmp[0] is not None:\n",
    "        desc.args[\"AM-TMP\"] = lc.Arg(tmp[0], tmp[1])\n",
    "\n",
    "    sent.describers = [desc]\n",
    "    sent.customizers[\"desc_mapping\"] = lc.Customizer(dm.have, {})\n",
    "    sent.customizers[\"request_mapping\"] = lc.Customizer(he.returns_same, {\"sentence\": sent})\n",
    "\n",
    "    \n",
    "    return sent\n"
   ]
  },
  {
   "cell_type": "markdown",
   "id": "c1a959bc-674a-40f2-8b46-b3745b8e6ca0",
   "metadata": {},
   "source": [
    "Here, we show an example of our sentence. As you can see, we do not pass tuples to our query_have function. The decorator auto_fill automatically converts the argument value to a language component (Word, Phrase, Sentence)."
   ]
  },
  {
   "cell_type": "code",
   "execution_count": null,
   "id": "bdf974c6-fac0-4946-9939-1710c4615ee3",
   "metadata": {},
   "outputs": [],
   "source": [
    "example_query = query_have(\n",
    "          agent=world.player,\n",
    "          possession = [\"How\", \"many\", \"items\"],\n",
    "          owner= world.player2,\n",
    "          rel=\"have\",\n",
    "          speaker=world.player)\n",
    "print (example_query.to_string())"
   ]
  },
  {
   "cell_type": "markdown",
   "id": "2143f1f8-2f34-45e2-95f8-4e85e056912c",
   "metadata": {},
   "source": [
    "Once we have our query function built, we can proceed to create the user policy. The user policy must adhere to the \"interface\" from the [Policy](https://revivegretel.com/docs/dialoguefactory.policies.html#dialoguefactory.policies.base_policies.Policy) class. In this context, the user is represented by self.player.\n",
    "\n",
    "The implementation of get_steps is straightforward. This is because the user only provides one response at the beginning of the dialogue and does not respond further. We pass the user request in the *sentences.say* function, resulting in the final response: \"\\<user\\> says: \\<agent\\>, How many items does \\<random_player\\> have?\"\n",
    "\n",
    "The players are described using properties and attributes. For instance, the self.agent can be described using the name 'Gretel' or its size and type 'the medium person.' The definite article' the' is omitted if the request uses the agent's second description. As a result, we generate the description elements using `agent.describe()` and later remove the article if it exists. This is for the sake of syntax while retaining the argument value `self.agent`, an Entity. This way, if two sentences are compared with different descriptions of the same Entity, they will be identical.\n",
    "\n",
    "The policy is reset after the user request because we use one instance of UserPolicy during our dialogue generation. We change the policy's parameters before initializing each new dialogue (shown in the **Creating the template** section below). \n",
    "\n",
    "Each policy has a goal; in this case, the agent and the user share the same dialogue goal. We have implemented the get_goal function in the agent's policy for convenience. Hence, the user policy's get_goal function returns None.\n",
    "\n"
   ]
  },
  {
   "cell_type": "markdown",
   "id": "63d9e9d2-a733-4ba0-a248-40cb7f3cf8ae",
   "metadata": {},
   "source": [
    "In case the user's AutoPolicy is used, and our new policy HowManyItems is active, the self.agent and the self.owner will not be None. We do not create multiple instances of the UserPolicy because, in the future, user policies may need to retain information as the simulation runs."
   ]
  },
  {
   "cell_type": "code",
   "execution_count": null,
   "id": "0962b5da-eed0-4c82-b22f-67fe948985bd",
   "metadata": {},
   "outputs": [],
   "source": [
    "import copy\n",
    "\n",
    "from dialoguefactory.policies.user_policies import UserPolicy\n",
    "import dialoguefactory.language.sentences as tsentences\n",
    "\n",
    "class HowManyUserPolicy(UserPolicy):\n",
    "    def __init__(self, player, agent=None, owner=None, dialogue=None):\n",
    "        super().__init__(player, dialogue)\n",
    "        self.agent = agent\n",
    "        self.owner = owner\n",
    "\n",
    "    def get_steps(self, **params):\n",
    "        sent = None\n",
    "        if self.agent is None or self.owner is None:\n",
    "            return None\n",
    "\n",
    "        if self.dialogue is not None:\n",
    "            player_prev_utters = self.dialogue.get_player_utters(self.player)\n",
    "        else:\n",
    "            player_prev_utters = []\n",
    "\n",
    "        if len(player_prev_utters) < 1:\n",
    "            tmp = params.get(\"tmp\", None)\n",
    "            self.agent.describe()\n",
    "            agent_desc_elems = copy.copy(self.agent.description.elements)\n",
    "            if agent_desc_elems[0] == \"the\":\n",
    "                del agent_desc_elems[0]\n",
    "            \n",
    "            request_how_many = query_have(tmp=tmp,\n",
    "                                          agent=(self.agent, self.agent.describe(agent_desc_elems)), \n",
    "                                          possession = [\"How\", \"many\", \"items\"],\n",
    "                                          owner= self.owner,\n",
    "                                          rel=\"have\",\n",
    "                                          speaker=self.player)\n",
    "\n",
    "            sent = tsentences.say(self.player, None, 'says',\n",
    "                                  request_how_many, speaker=self.player)\n",
    "            self.reset()\n",
    "\n",
    "        return sent\n",
    "     \n",
    "    def reset(self):\n",
    "        self.agent = None\n",
    "        self.owner = None\n",
    "\n",
    "    def save_state(self):\n",
    "        return self.agent, self.owner\n",
    "\n",
    "    def recover_state(self, state):\n",
    "        self.agent = state[0]\n",
    "        self.owner = state[1]\n",
    "        "
   ]
  },
  {
   "cell_type": "markdown",
   "id": "a0deac20-be27-45c5-916a-1d485fa3c96d",
   "metadata": {},
   "source": [
    "We will test our new policy by having Max (a very large person) act as the user, Gretel (a medium-sized person) as the agent, and Andy (an orange bear) as the object owner. Let's observe what the request looks like. Please note that Max, Gretel, and Andy can also be described using other properties such as their nickname or surname."
   ]
  },
  {
   "cell_type": "code",
   "execution_count": null,
   "id": "e19b888e-dcf0-443e-a5aa-3f31fe2c3036",
   "metadata": {},
   "outputs": [],
   "source": [
    "example_policy = HowManyUserPolicy(world.inv, world.player, world.bear)\n",
    "sentence = example_policy.execute()\n",
    "print (sentence.to_string())"
   ]
  },
  {
   "cell_type": "markdown",
   "id": "6d404bea-4498-4d88-a71f-150be1b9b5f2",
   "metadata": {},
   "source": [
    "\n",
    "We store all user policies in the DialogueGenerator class under the [user_policy_database](https://revivegretel.com/docs/dialoguefactory.html#dialoguefactory.dialogue_generator.DialogueGenerator.user_policy_database) dictionary. We use a single instance of the user and agent policies as they can retain information as the simulation runs and the context expands. The dictionary maps each player in the world to a list of their user policies. Additionally, we attach the instance of the HowMany policy to each user's [AutoPolicy](https://revivegretel.com/docs/dialoguefactory.policies.html#dialoguefactory.policies.base_policies.AutoPolicy).\n",
    "\n",
    "Currently, we do not use auto-policies for our dialogues to save time. Auto-policies are useful when the user request is issued in a specific context. For example, if user motivations like being hungry are implemented, the auto-policy will select the user policy that issues the following requests: \"Go to the kitchen\" or \"Order food\".\n"
   ]
  },
  {
   "cell_type": "code",
   "execution_count": null,
   "id": "128333b2-a379-4f2f-ae63-265ea8ff9ff7",
   "metadata": {},
   "outputs": [],
   "source": [
    "for user in world.players:\n",
    "    user_pol = HowManyUserPolicy(user)\n",
    "    generator.user_policy_database[user].append(user_pol)\n",
    "    generator.user_auto_policy_database[user].list_policies.append(user_pol)\n",
    "    "
   ]
  },
  {
   "cell_type": "markdown",
   "id": "6c904961-628a-46ca-ad6c-15d892b00eb4",
   "metadata": {},
   "source": [
    "Explain the addition of the goal etc. say we already have implemented checkers. explain how the specific checker works instead\n",
    "explain that the checkers use only information from the context that the agent has seen. Explain tsentences is used to avoid overlap of list of sentences."
   ]
  },
  {
   "cell_type": "markdown",
   "id": "75b66075-d614-4221-8e10-267e34d15903",
   "metadata": {},
   "source": [
    "## The agent's policy\n",
    "\n",
    "Let's create the agent's policy now, which we'll name HowManyAgentPolicy.\n",
    "\n",
    "The agent's policy is responsible for returning the agent's response and goal based on the context. The BasePolicy contains an `execute()` function, which takes the first utterance of the dialogue (the user request in this case) and calls the `parse()` function. The parse function verifies that the user request is \"HowMany.\" This verification is useful when the agent's `AutoPolicy` is used to find the appropriate policy in the context automatically.\n",
    "\n",
    "The owner is extracted from the sentence, and the `task()` is called to determine the next agent's response and goal.\n",
    "\n",
    "The logic for the policy is as follows:\n",
    "1. Count the number of owner's objects whose location is revealed. If there are some objects that have been revealed, we add the sentence: \"\\<owner\\> has <\\#visible> items\" to the list of valid responses.\n",
    "2. If no objects have been revealed, it is uncertain whether the owner has any items. Therefore, we check whether the agent has knowledge of \"\\<owner\\> has no items\" in the knowledge base.\n",
    "3. If the check is not True, then it means the agent does not know how many items the owner has.\n",
    "4. Sometimes, the true number of objects that the owner has can differ from the number of objects revealed in the context. We allow the agent to guess the correct answer under these circumstances.\n",
    "\n"
   ]
  },
  {
   "cell_type": "markdown",
   "id": "08d66b06-3739-4130-b9e1-0d6e1f6e597a",
   "metadata": {},
   "source": [
    "\n",
    "In some cases, the environment provides this information, and the knowledge base stores this information using the updaters. Later, our checkers verify against the knowledge base to see whether this information is available. You can find more information about updaters and checkers below.\n",
    "\n",
    "To help developers build agent policies more efficiently, we developed the KnowledgeBase. The KnowledgeBase stores all the factual information that continuously comes from the context. It is useful for quickly and easily checking if the information in the sentence is present in the context "
   ]
  },
  {
   "cell_type": "code",
   "execution_count": null,
   "id": "3b9be56f-18b5-4bd4-93e5-85b60ddb79d0",
   "metadata": {},
   "outputs": [],
   "source": [
    "from dialoguefactory.policies.base_policies import BasePolicy\n",
    "from dialoguefactory.environment import entities as em\n",
    "from dialoguefactory.policies import goals as tgoals \n",
    "\n",
    "class HowManyAgentPolicy(BasePolicy):\n",
    "\n",
    "    def parse(self, last_user_command):\n",
    "        \n",
    "        describer = last_user_command.describers[0]\n",
    "\n",
    "        if describer.get_arg(\"Rel\", _type=0).infinitive != \"have\":\n",
    "            return None, None\n",
    " \n",
    "        owner = describer.get_arg(\"Arg-PAG\")\n",
    "        \n",
    "        how_many_query = query_have(describer.get_arg(\"AM-TMP\"), self.player, [\"How\", \"many\", \"items\"], owner, None, \"have\")\n",
    "\n",
    "        if last_user_command == how_many_query:\n",
    "            if isinstance(owner, em.Entity):\n",
    "                return self.task(owner)\n",
    "\n",
    "        return None, None\n",
    "        \n",
    "    def task(self, owner):\n",
    "        knowledge_base = self.dialogue.dia_generator.knowledge_base\n",
    "        counter = 0\n",
    "        for obj in owner.objects:\n",
    "            if knowledge_base.check(tsentences.be([obj, \"'s\", \"location\"], \"is\", None, [\"in\", owner])):\n",
    "                counter += 1\n",
    "\n",
    "        steps, goal_steps = [], []\n",
    "        if counter > 0:\n",
    "            visible_objs_sent = tsentences.have(owner, \n",
    "                                   'has',\n",
    "                                   None,\n",
    "                                   [str(counter), 'items'])\n",
    "            \n",
    "            steps.append(visible_objs_sent)\n",
    "            \n",
    "        else:\n",
    "            no_items_sent = tsentences.have(owner,\n",
    "                                    'has',\n",
    "                                    'not',\n",
    "                                    'items')\n",
    "            if knowledge_base.check(no_items_sent):\n",
    "                steps.append(no_items_sent)\n",
    "            else:\n",
    "                statement = tsentences.have(owner,\n",
    "                                            'has',\n",
    "                                            None,\n",
    "                                            ['how', 'many', 'items'], speaker=self.player)\n",
    "                del statement.parts[-1]\n",
    "                for element in reversed(statement.parts[-3:]):\n",
    "                    statement.parts.insert(0, element)\n",
    "                del statement.parts[-3:]\n",
    "                \n",
    "                do_not_know_sent = tsentences.know(self.player, \"not\", \"know\", statement, speaker=self.player)\n",
    "                steps.append(do_not_know_sent)\n",
    "\n",
    "        if len(owner.objects) > 0:\n",
    "            non_vis_objs_sent = tsentences.be(owner,\n",
    "                                      'has',\n",
    "                                      None,\n",
    "                                      [str(len(owner.objects)), 'items'])\n",
    "            \n",
    "            if non_vis_objs_sent not in steps:\n",
    "                goal_steps.append(non_vis_obj_sent)\n",
    "        elif len(owner.objects) == 0:\n",
    "            no_items_sent = tsentences.have(owner,\n",
    "                                    'has',\n",
    "                                    'not',\n",
    "                                    'items')\n",
    "            goal_steps.append(no_items_sent)\n",
    "\n",
    "        def add_say(sentences):\n",
    "            new_list = []\n",
    "            for sent in sentences:\n",
    "                new_list.append(tsentences.say(self.player, None, \"says\", sent, speaker=self.player))\n",
    "            del sentences[:]\n",
    "            sentences.extend(new_list)\n",
    "\n",
    "\n",
    "        for listt in [steps, goal_steps]:\n",
    "            add_say(listt)\n",
    "                \n",
    "        \n",
    "        goal = tgoals.Goal(tgoals.multiple_correct,\n",
    "                               self.dialogue,\n",
    "                               self.player,\n",
    "                               goal_steps+steps,\n",
    "                               len(self.dialogue.get_utterances()) - 1\n",
    "                               )\n",
    "        return steps, goal\n"
   ]
  },
  {
   "cell_type": "markdown",
   "id": "fe0bbd12-2742-42fe-86b9-5644a9c345b5",
   "metadata": {},
   "source": [
    "We add the `HowManyAgentPolicy` instance to the agent's policy databases in the same way we added the user policy."
   ]
  },
  {
   "cell_type": "code",
   "execution_count": null,
   "id": "5603a50c-d3ac-4e74-91d7-082165b4387e",
   "metadata": {},
   "outputs": [],
   "source": [
    "for agent in world.players:\n",
    "    agent_pol = HowManyAgentPolicy(agent)\n",
    "    generator.agent_policy_database[agent].append(agent_pol)\n",
    "    generator.agent_auto_policy_database[agent].list_policies.append(agent_pol)"
   ]
  },
  {
   "cell_type": "markdown",
   "id": "cff49051-9cbf-4b2f-9034-16d207576d6f",
   "metadata": {},
   "source": [
    "# Creating the template\n",
    "\n",
    "After we have developed the policies, creating the template is reduced to creating a function. The templates are functions that create and initialize an instance of the Dialogue class. They are considered primitive if they don't contain another template in the function parameters, and complex otherwise. You can check some examples of primitive and complex templates in the module [templates](https://revivegretel.com/docs/dialoguefactory.generation.html#module-dialoguefactory.generation.templates). Upon creating the template function, the template must be appended to generator.primitive_templates if the template is primitive or to generator.complex_templates otherwise.\n"
   ]
  },
  {
   "cell_type": "code",
   "execution_count": null,
   "id": "6ed13a07-be97-4ab1-a6b3-7a5145d6d4f1",
   "metadata": {},
   "outputs": [],
   "source": [
    "from dialoguefactory.generation import helpers as gh\n",
    "from dialoguefactory.generation.templates import init_dialogue\n",
    "\n",
    "def howmany_template(dia_generator, user, agent, random_player, entities_descriptions=None):\n",
    "    user_policy = gh.find_policy(dia_generator.user_policy_database[user],\n",
    "                                      HowManyUserPolicy)\n",
    "    user_policy.agent = agent\n",
    "    user_policy.owner = random_player\n",
    "\n",
    "    agent_policy = gh.find_policy(dia_generator.agent_policy_database[agent],\n",
    "                                       HowManyAgentPolicy)\n",
    "    dialogue = init_dialogue(dia_generator, user_policy, agent_policy,\n",
    "                             entities_descriptions)\n",
    "    \n",
    "    return dialogue"
   ]
  },
  {
   "cell_type": "markdown",
   "id": "d574c430-93a3-4c8f-8105-3dafe7789155",
   "metadata": {},
   "source": [
    "The new template includes the following parameters: user, agent, and a random player (the owner of the items). The *entities_descriptions* is a dictionary that maps Entity to Description. This dictionary is used to specify the description of the entities that appear in the dialogue. For instance, you can describe the user, the agent, and the random player with their nicknames. Otherwise, their descriptions are randomly generated as the dialogue runs. \n",
    "\n",
    "Since our template is primitive, we're adding it to the list of primitive templates."
   ]
  },
  {
   "cell_type": "code",
   "execution_count": null,
   "id": "b5ead53e-bab6-4b7f-92e9-c822ae8e0e65",
   "metadata": {},
   "outputs": [],
   "source": [
    "generator.primitive_templates.append(howmany_template)"
   ]
  },
  {
   "cell_type": "markdown",
   "id": "0a6f97cd-e5f8-4433-9ea9-dd89b710f6e3",
   "metadata": {},
   "source": [
    "The template is randomly selected during the dialogue generation process. The template parameters *user* and *agent* are randomly generated using the parameter generators. When generated, the parameters are temporarily stored in the Python dictionaries [generator.curr_prim_params](https://revivegretel.com/docs/dialoguefactory.html#dialoguefactory.dialogue_generator.DialogueGenerator.curr_prim_params) and [generator.curr_complex_params](https://revivegretel.com/docs/dialoguefactory.html#dialoguefactory.dialogue_generator.DialogueGenerator.curr_complex_params). This allows the *parameterA* generator to fetch the value of *parameterB* from the dictionaries if the generation of *parameterA* depends on the generation of *parameterB*. Once the template parameters are generated, the dictionaries *generator.curr_prim_params* and *generator.curr_complex_params* are cleared. \n",
    "\n",
    "Since there is no parameter generator for the *random_player* parameter, we create one. We reuse the parameter generator [random_world_list](https://revivegretel.com/docs/dialoguefactory.generation.html#dialoguefactory.generation.param_generators.random_world_list), and we pass the list \"players\" so that it randomly selects a player from the world.\n",
    "\n",
    "All parameter generators are stored in the lists *generator.prim_param_generators* and *generator.complex_param_generators*, depending on whether they generate the parameters for the primitive or complex template. We add our *random_player* generator to the *prim_param_generators* since our template is primitive."
   ]
  },
  {
   "cell_type": "code",
   "execution_count": null,
   "id": "3c05aec0-5975-46d2-8ad2-6f6147eab202",
   "metadata": {},
   "outputs": [],
   "source": [
    "from functools import partial\n",
    "from dialoguefactory.generation import param_generators as pg\n",
    "\n",
    "generator.prim_param_generators.append((\"random_player\", partial(pg.random_world_list, generator.curr_prim_params,\n",
    "                                                                  \"players\")))"
   ]
  },
  {
   "cell_type": "markdown",
   "id": "ee1127f9-1285-4da0-98eb-ea3d8ad5a74f",
   "metadata": {},
   "source": [
    "Let's look at some dialogues generated from our template when mixed with other templates."
   ]
  },
  {
   "cell_type": "code",
   "execution_count": null,
   "id": "1475b47a-6094-4b20-afe1-ce462449d032",
   "metadata": {},
   "outputs": [],
   "source": [
    "generator.run(100)\n",
    "for utterance in generator.context:\n",
    "    print (utterance.to_string())"
   ]
  },
  {
   "cell_type": "markdown",
   "id": "8dbc35d5-8687-4c74-a711-400119212b54",
   "metadata": {},
   "source": [
    "# Submitting your templates\n",
    "\n",
    "Please refer to the following [link](https://github.com/smartinovski/dialoguefactory#submitting-your-templates) to see how to submit your newly developed dialogue templates."
   ]
  },
  {
   "cell_type": "markdown",
   "id": "1cdf228c-4ee1-4ab9-8856-e879fcb5e4ae",
   "metadata": {},
   "source": [
    "# Appendix\n",
    "\n",
    "You may find the following sections helpful if your templates require additional components to be developed."
   ]
  },
  {
   "cell_type": "markdown",
   "id": "7afaff41-fdd2-4d4c-a579-4797c08eadfe",
   "metadata": {},
   "source": [
    "## The knowledge base\n",
    "\n",
    "In order to assist developers in creating agent policies more efficiently, we have developed the [KnowledgeBase](https://revivegretel.com/docs/dialoguefactory.state.html#dialoguefactory.state.knowledge_base.KnowledgeBase). The KnowledgeBase stores all available factual information from the context and the meta context. It is helpful for quickly and easily determining whether the information conveyed in a sentence is explicitly or implicitly present in the context. The knowledge base includes a set of functions known as checkers, which search for various types of information in the context. During the checking process, each of the checkers is called, and the first one that responds provides the final result. Examples of checkers can be found in the [kn_checkers module](https://revivegretel.com/docs/_modules/dialoguefactory/state/kn_checkers.html).\n",
    "\n",
    "Additionally, the knowledge base consists of a list of functions called updaters, which are responsible for updating the knowledge base with truthful sentences. Examples of updaters can be found in the [kn_updaters module](https://revivegretel.com/docs/_modules/dialoguefactory/state/kn_updaters.html).\n",
    "\n",
    "To create a new updater or checker, create a function with parameters *kb_state* and *sent* where *kb_state* is an instance of the [KnowledgeBase](https://revivegretel.com/docs/dialoguefactory.state.html#dialoguefactory.state.knowledge_base.KnowledgeBase) class and *sent* is an instance of the class [Sentence](https://revivegretel.com/docs/dialoguefactory.language.html#dialoguefactory.language.components.Sentence). Once you've created them, they can be appended to the following lists: *knowledge_base.kn_updaters* or *knowledge_base.kn_checkers*"
   ]
  },
  {
   "cell_type": "markdown",
   "id": "f29a9bb3-e29f-4b2a-b3e9-08558e054aff",
   "metadata": {},
   "source": [
    "## Creating new environment actions\n",
    "\n",
    "If you need to create a new action for your policy, this section is useful. Examples of environment actions include *drop*, *open*, and *say*. For instance, if you want to create a policy for unlocking and locking containers and doors, start by creating a function called \"unlock.\" To kickstart the process, you can refer to the source code of the [environment.actions](https://revivegretel.com/docs/dialoguefactory.environment.html#module-dialoguefactory.environment.actions) module for action examples. Once you've built the action function, you'll need to create an environment policy. The environment policy parses the user request and translates it into an action. For example, if a user says, \"Hannah, unlock the green door in the kitchen,\" the environment will translate the request to the action unlock(player, green_door, kitchen). You can find an example of an environment policy in the [env_policies](https://revivegretel.com/docs/dialoguefactory.policies.html#module-dialoguefactory.policies.env_policies) module."
   ]
  }
 ],
 "metadata": {
  "kernelspec": {
   "display_name": "Python 3 (ipykernel)",
   "language": "python",
   "name": "python3"
  },
  "language_info": {
   "codemirror_mode": {
    "name": "ipython",
    "version": 3
   },
   "file_extension": ".py",
   "mimetype": "text/x-python",
   "name": "python",
   "nbconvert_exporter": "python",
   "pygments_lexer": "ipython3",
   "version": "3.8.19"
  }
 },
 "nbformat": 4,
 "nbformat_minor": 5
}
